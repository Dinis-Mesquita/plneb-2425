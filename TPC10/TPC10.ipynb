{
 "cells": [
  {
   "cell_type": "code",
   "execution_count": null,
   "id": "initial_id",
   "metadata": {
    "collapsed": true,
    "is_executing": true
   },
   "outputs": [],
   "source": [
    "from gensim.models import Word2Vec\n",
    "from gensim.utils import tokenize\n",
    "import gensim\n",
    "f1= open (r\"C:\\Users\\dinis\\Desktop\\pln\\aula10\\Harry_Potter_Camara_Secreta-br.txt\",\"r\",encoding=\"utf8\")\n",
    "f2= open(r\"C:\\Users\\dinis\\Desktop\\pln\\aula10\\Harry_Potter_e_A_Pedra_Filosofal.txt\",\"r\",encoding=\"utf8\")\n",
    "\n",
    "# tokenizar cada frase em palavras\n",
    "sents=[]\n",
    "for frase in f1:\n",
    "    tokens = list(gensim.utils.tokenize(frase,lower=True))\n",
    "    sents.append(tokens)\n",
    "\n",
    "for frase in f2:\n",
    "    tokens = list(gensim.utils.tokenize(frase,lower=True))\n",
    "    sents.append(tokens)\n",
    "\n",
    "print(sents)\n",
    "\n"
   ]
  },
  {
   "cell_type": "code",
   "outputs": [],
   "source": [
    "\n",
    "model=Word2Vec(sents,vector_size=300,epochs=20)\n",
    "\n",
    "print(model.wv.doesnt_match([\"harry\",\"varinha\",\"dumbledore\"]))\n",
    "#print(model.wv[\"harry\"])\n",
    "#print(model.wv.most_similar('harry'))\n",
    "print(model.wv.most_similar(positive=[\"bruxo\",\"dursley\"],negative=[\"magia\"]))  # +king - man + woman =queen\n",
    "#print(model.wv.similarity('harry','hagrid'))\n",
    "#print(model.wv.similarity('harry','dobby'))\n",
    "f1.close()\n",
    "f2.close()\n",
    "\n",
    "model.wv.save_word2vec_format(\"mode_harry.txt\",binary=False)\n",
    "\n",
    "#python -m gensim.scripts.word2vec2tensor -i mode_harry.txt -o model_harry\n",
    "#https://projector.tensorflow.org"
   ],
   "metadata": {
    "collapsed": false
   },
   "id": "7bfcccc93f59295b"
  }
 ],
 "metadata": {
  "kernelspec": {
   "display_name": "Python 3",
   "language": "python",
   "name": "python3"
  },
  "language_info": {
   "codemirror_mode": {
    "name": "ipython",
    "version": 2
   },
   "file_extension": ".py",
   "mimetype": "text/x-python",
   "name": "python",
   "nbconvert_exporter": "python",
   "pygments_lexer": "ipython2",
   "version": "2.7.6"
  }
 },
 "nbformat": 4,
 "nbformat_minor": 5
}
